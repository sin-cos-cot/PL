{
 "cells": [
  {
   "cell_type": "code",
   "execution_count": 7,
   "id": "d51b8c3a",
   "metadata": {},
   "outputs": [],
   "source": [
    "import urllib.request as req #抓取網頁原始碼(HTML)\n",
    "import json\n",
    "import pandas as pd\n",
    "\n",
    "#抓取的網站\n",
    "url = 'https://popbee.com/category/fashion/' \n",
    "\n",
    "# 建立 Request 物件，附加 Request Headers(因為連線被拒絕，必須看起來像是人類)\n",
    "request = req.Request(url, headers = {\n",
    "    \"User-Agent\":'Mozilla/5.0 (Windows NT 10.0; Win64; x64) AppleWebKit/537.36 (KHTML, like Gecko) Chrome/106.0.0.0 Safari/537.36'\n",
    "})\n",
    "with req.urlopen(request) as response:\n",
    "    data = response.read().decode(\"utf-8\")"
   ]
  },
  {
   "cell_type": "code",
   "execution_count": 16,
   "id": "2eeda50b",
   "metadata": {},
   "outputs": [],
   "source": [
    "#解析原始碼\n",
    "import bs4\n",
    "root = bs4.BeautifulSoup(data, \"html.parser\")\n",
    "\n",
    "#找網站中class 為 entry-title 的 h2 標籤\n",
    "titles = root.find_all(\"h2\", class_=\"title\") "
   ]
  },
  {
   "cell_type": "code",
   "execution_count": 17,
   "id": "f60aafcf",
   "metadata": {},
   "outputs": [
    {
     "name": "stdout",
     "output_type": "stream",
     "text": [
      "\"停不了的網球風：繼 Celine 和 Miu Miu 後，FILA 與 ÉTUDES Studio ⾸度推出以網球作靈感的聯乘系列\"\n",
      "\"一秒變超可愛電玩角色：LOEWE 全新像素系列，2D 連帽衫、手袋…！\"\n",
      "\"#PopbeeSnap：春季法式時尚上班穿搭提案，教你打造毫不費力的知性美學！\"\n",
      "\"台灣販售資訊：PEACEMINUSONE x Nike Kwondo 1 價錢，已正式開放投籤！\"\n",
      "\"UNIQLO and Mame Kurogouchi：初夏海濱的透明感，23 春夏系列又有全新單品！\"\n",
      "\"風靡韓國女生間的時尚 App：打開「onthelook」不怕出門前沒有穿搭靈感！\"\n",
      "\"新海誠、Snoopy、進擊的巨人 … Uniqlo UT 新登場聯名系列很難抉擇！\"\n",
      "\"Hermès 首次市值突破 €2,000 億歐元，成為 LVMH 後全球第二大的奢侈品牌！\"\n",
      "\"車珠英透露爸爸也有看她《黑暗榮耀》中的大膽裸體戲，事後的這反應讓她很無…\"\n",
      "\"新海誠、Snoopy、進擊的巨人 … Uniqlo UT …\"\n",
      "\"Rosé 跟姜棟元同框合照引發緋聞，照片中的「這物件」更是讓網民大喊「…\"\n",
      "\"短髮控必試：跟着日本女生剪這個髮型，幫你省下打理頭髮的時間！…\"\n",
      "\"不再為一時嘴饞苦惱：常常胃脹氣的女生，必須筆記這 5+ 飲食生活小撇步…\"\n"
     ]
    }
   ],
   "source": [
    "allti=[]\n",
    "for title in titles:\n",
    "    all=title.a.string\n",
    "    alla = json.dumps(all,ensure_ascii=False).encode('utf-8')\n",
    "    allb = alla.decode()\n",
    "    allti.append(allb)\n",
    "    print(allb)"
   ]
  },
  {
   "cell_type": "code",
   "execution_count": 18,
   "id": "3be9f253",
   "metadata": {},
   "outputs": [
    {
     "data": {
      "text/plain": [
       "'{\"文章標題\": [\"\\\\\"停不了的網球風：繼 Celine 和 Miu Miu 後，FILA 與 ÉTUDES Studio ⾸度推出以網球作靈感的聯乘系列\\\\\"\", \"\\\\\"一秒變超可愛電玩角色：LOEWE 全新像素系列，2D 連帽衫、手袋…！\\\\\"\", \"\\\\\"#PopbeeSnap：春季法式時尚上班穿搭提案，教你打造毫不費力的知性美學！\\\\\"\", \"\\\\\"台灣販售資訊：PEACEMINUSONE x Nike Kwondo 1 價錢，已正式開放投籤！\\\\\"\", \"\\\\\"UNIQLO and Mame Kurogouchi：初夏海濱的透明感，23 春夏系列又有全新單品！\\\\\"\", \"\\\\\"風靡韓國女生間的時尚 App：打開「onthelook」不怕出門前沒有穿搭靈感！\\\\\"\", \"\\\\\"新海誠、Snoopy、進擊的巨人 … Uniqlo UT 新登場聯名系列很難抉擇！\\\\\"\", \"\\\\\"Hermès 首次市值突破 €2,000 億歐元，成為 LVMH 後全球第二大的奢侈品牌！\\\\\"\", \"\\\\\"車珠英透露爸爸也有看她《黑暗榮耀》中的大膽裸體戲，事後的這反應讓她很無…\\\\\"\", \"\\\\\"新海誠、Snoopy、進擊的巨人 … Uniqlo UT …\\\\\"\", \"\\\\\"Rosé 跟姜棟元同框合照引發緋聞，照片中的「這物件」更是讓網民大喊「…\\\\\"\", \"\\\\\"短髮控必試：跟着日本女生剪這個髮型，幫你省下打理頭髮的時間！…\\\\\"\", \"\\\\\"不再為一時嘴饞苦惱：常常胃脹氣的女生，必須筆記這 5+ 飲食生活小撇步…\\\\\"\"]}'"
      ]
     },
     "execution_count": 18,
     "metadata": {},
     "output_type": "execute_result"
    }
   ],
   "source": [
    "#將資料放入 dict\n",
    "popbee={}\n",
    "popbee['文章標題']=allti\n",
    "\n",
    "#將dict 轉成 json 檔\n",
    "eyesonplace_j=json.dumps(eyesonplace,ensure_ascii=False) \n",
    "eyesonplace_j"
   ]
  },
  {
   "cell_type": "code",
   "execution_count": 19,
   "id": "0133929c",
   "metadata": {},
   "outputs": [
    {
     "data": {
      "text/html": [
       "<div>\n",
       "<style scoped>\n",
       "    .dataframe tbody tr th:only-of-type {\n",
       "        vertical-align: middle;\n",
       "    }\n",
       "\n",
       "    .dataframe tbody tr th {\n",
       "        vertical-align: top;\n",
       "    }\n",
       "\n",
       "    .dataframe thead th {\n",
       "        text-align: right;\n",
       "    }\n",
       "</style>\n",
       "<table border=\"1\" class=\"dataframe\">\n",
       "  <thead>\n",
       "    <tr style=\"text-align: right;\">\n",
       "      <th></th>\n",
       "      <th>文章標題</th>\n",
       "    </tr>\n",
       "  </thead>\n",
       "  <tbody>\n",
       "    <tr>\n",
       "      <th>0</th>\n",
       "      <td>\"停不了的網球風：繼 Celine 和 Miu Miu 後，FILA 與 ÉTUDES St...</td>\n",
       "    </tr>\n",
       "    <tr>\n",
       "      <th>1</th>\n",
       "      <td>\"一秒變超可愛電玩角色：LOEWE 全新像素系列，2D 連帽衫、手袋…！\"</td>\n",
       "    </tr>\n",
       "    <tr>\n",
       "      <th>2</th>\n",
       "      <td>\"#PopbeeSnap：春季法式時尚上班穿搭提案，教你打造毫不費力的知性美學！\"</td>\n",
       "    </tr>\n",
       "    <tr>\n",
       "      <th>3</th>\n",
       "      <td>\"台灣販售資訊：PEACEMINUSONE x Nike Kwondo 1 價錢，已正式開放...</td>\n",
       "    </tr>\n",
       "    <tr>\n",
       "      <th>4</th>\n",
       "      <td>\"UNIQLO and Mame Kurogouchi：初夏海濱的透明感，23 春夏系列又有...</td>\n",
       "    </tr>\n",
       "    <tr>\n",
       "      <th>5</th>\n",
       "      <td>\"風靡韓國女生間的時尚 App：打開「onthelook」不怕出門前沒有穿搭靈感！\"</td>\n",
       "    </tr>\n",
       "    <tr>\n",
       "      <th>6</th>\n",
       "      <td>\"新海誠、Snoopy、進擊的巨人 … Uniqlo UT 新登場聯名系列很難抉擇！\"</td>\n",
       "    </tr>\n",
       "    <tr>\n",
       "      <th>7</th>\n",
       "      <td>\"Hermès 首次市值突破 €2,000 億歐元，成為 LVMH 後全球第二大的奢侈品牌！\"</td>\n",
       "    </tr>\n",
       "    <tr>\n",
       "      <th>8</th>\n",
       "      <td>\"車珠英透露爸爸也有看她《黑暗榮耀》中的大膽裸體戲，事後的這反應讓她很無…\"</td>\n",
       "    </tr>\n",
       "    <tr>\n",
       "      <th>9</th>\n",
       "      <td>\"新海誠、Snoopy、進擊的巨人 … Uniqlo UT …\"</td>\n",
       "    </tr>\n",
       "    <tr>\n",
       "      <th>10</th>\n",
       "      <td>\"Rosé 跟姜棟元同框合照引發緋聞，照片中的「這物件」更是讓網民大喊「…\"</td>\n",
       "    </tr>\n",
       "    <tr>\n",
       "      <th>11</th>\n",
       "      <td>\"短髮控必試：跟着日本女生剪這個髮型，幫你省下打理頭髮的時間！…\"</td>\n",
       "    </tr>\n",
       "    <tr>\n",
       "      <th>12</th>\n",
       "      <td>\"不再為一時嘴饞苦惱：常常胃脹氣的女生，必須筆記這 5+ 飲食生活小撇步…\"</td>\n",
       "    </tr>\n",
       "  </tbody>\n",
       "</table>\n",
       "</div>"
      ],
      "text/plain": [
       "                                                 文章標題\n",
       "0   \"停不了的網球風：繼 Celine 和 Miu Miu 後，FILA 與 ÉTUDES St...\n",
       "1               \"一秒變超可愛電玩角色：LOEWE 全新像素系列，2D 連帽衫、手袋…！\"\n",
       "2           \"#PopbeeSnap：春季法式時尚上班穿搭提案，教你打造毫不費力的知性美學！\"\n",
       "3   \"台灣販售資訊：PEACEMINUSONE x Nike Kwondo 1 價錢，已正式開放...\n",
       "4   \"UNIQLO and Mame Kurogouchi：初夏海濱的透明感，23 春夏系列又有...\n",
       "5          \"風靡韓國女生間的時尚 App：打開「onthelook」不怕出門前沒有穿搭靈感！\"\n",
       "6         \"新海誠、Snoopy、進擊的巨人 … Uniqlo UT 新登場聯名系列很難抉擇！\"\n",
       "7     \"Hermès 首次市值突破 €2,000 億歐元，成為 LVMH 後全球第二大的奢侈品牌！\"\n",
       "8              \"車珠英透露爸爸也有看她《黑暗榮耀》中的大膽裸體戲，事後的這反應讓她很無…\"\n",
       "9                    \"新海誠、Snoopy、進擊的巨人 … Uniqlo UT …\"\n",
       "10             \"Rosé 跟姜棟元同框合照引發緋聞，照片中的「這物件」更是讓網民大喊「…\"\n",
       "11                  \"短髮控必試：跟着日本女生剪這個髮型，幫你省下打理頭髮的時間！…\"\n",
       "12             \"不再為一時嘴饞苦惱：常常胃脹氣的女生，必須筆記這 5+ 飲食生活小撇步…\""
      ]
     },
     "execution_count": 19,
     "metadata": {},
     "output_type": "execute_result"
    }
   ],
   "source": [
    "#將dict 轉成 DataFrame\n",
    "popbee_c = pd.DataFrame(eyesonplace) \n",
    "popbee_c"
   ]
  },
  {
   "cell_type": "code",
   "execution_count": null,
   "id": "0047de00",
   "metadata": {},
   "outputs": [],
   "source": []
  }
 ],
 "metadata": {
  "kernelspec": {
   "display_name": "Python 3 (ipykernel)",
   "language": "python",
   "name": "python3"
  },
  "language_info": {
   "codemirror_mode": {
    "name": "ipython",
    "version": 3
   },
   "file_extension": ".py",
   "mimetype": "text/x-python",
   "name": "python",
   "nbconvert_exporter": "python",
   "pygments_lexer": "ipython3",
   "version": "3.9.13"
  }
 },
 "nbformat": 4,
 "nbformat_minor": 5
}
