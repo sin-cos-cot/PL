{
 "cells": [
  {
   "cell_type": "code",
   "execution_count": 3,
   "id": "6a3db7bb",
   "metadata": {},
   "outputs": [
    {
     "data": {
      "text/html": [
       "<div>\n",
       "<style scoped>\n",
       "    .dataframe tbody tr th:only-of-type {\n",
       "        vertical-align: middle;\n",
       "    }\n",
       "\n",
       "    .dataframe tbody tr th {\n",
       "        vertical-align: top;\n",
       "    }\n",
       "\n",
       "    .dataframe thead th {\n",
       "        text-align: right;\n",
       "    }\n",
       "</style>\n",
       "<table border=\"1\" class=\"dataframe\">\n",
       "  <thead>\n",
       "    <tr style=\"text-align: right;\">\n",
       "      <th></th>\n",
       "      <th>排名</th>\n",
       "      <th>怪物名稱</th>\n",
       "      <th>屬性</th>\n",
       "    </tr>\n",
       "  </thead>\n",
       "  <tbody>\n",
       "    <tr>\n",
       "      <th>0</th>\n",
       "      <td>1</td>\n",
       "      <td>妮奧</td>\n",
       "      <td>水</td>\n",
       "    </tr>\n",
       "    <tr>\n",
       "      <th>1</th>\n",
       "      <td>2</td>\n",
       "      <td>千早</td>\n",
       "      <td>水</td>\n",
       "    </tr>\n",
       "    <tr>\n",
       "      <th>2</th>\n",
       "      <td>3</td>\n",
       "      <td>阿碧絲</td>\n",
       "      <td>暗</td>\n",
       "    </tr>\n",
       "    <tr>\n",
       "      <th>3</th>\n",
       "      <td>4</td>\n",
       "      <td>開膛手傑克</td>\n",
       "      <td>光</td>\n",
       "    </tr>\n",
       "    <tr>\n",
       "      <th>4</th>\n",
       "      <td>5</td>\n",
       "      <td>盧娜</td>\n",
       "      <td>暗</td>\n",
       "    </tr>\n",
       "    <tr>\n",
       "      <th>5</th>\n",
       "      <td>6</td>\n",
       "      <td>所羅門</td>\n",
       "      <td>光</td>\n",
       "    </tr>\n",
       "    <tr>\n",
       "      <th>6</th>\n",
       "      <td>7</td>\n",
       "      <td>亞森</td>\n",
       "      <td>暗</td>\n",
       "    </tr>\n",
       "    <tr>\n",
       "      <th>7</th>\n",
       "      <td>8</td>\n",
       "      <td>甘露</td>\n",
       "      <td>水</td>\n",
       "    </tr>\n",
       "    <tr>\n",
       "      <th>8</th>\n",
       "      <td>9</td>\n",
       "      <td>亞瑟</td>\n",
       "      <td>光</td>\n",
       "    </tr>\n",
       "    <tr>\n",
       "      <th>9</th>\n",
       "      <td>10</td>\n",
       "      <td>路西法</td>\n",
       "      <td>暗</td>\n",
       "    </tr>\n",
       "    <tr>\n",
       "      <th>10</th>\n",
       "      <td>11</td>\n",
       "      <td>聖德太子</td>\n",
       "      <td>火</td>\n",
       "    </tr>\n",
       "    <tr>\n",
       "      <th>11</th>\n",
       "      <td>12</td>\n",
       "      <td>琵莉卡</td>\n",
       "      <td>水</td>\n",
       "    </tr>\n",
       "    <tr>\n",
       "      <th>12</th>\n",
       "      <td>13</td>\n",
       "      <td>瑪娜</td>\n",
       "      <td>火</td>\n",
       "    </tr>\n",
       "    <tr>\n",
       "      <th>13</th>\n",
       "      <td>14</td>\n",
       "      <td>鬼丸國鋼</td>\n",
       "      <td>火</td>\n",
       "    </tr>\n",
       "    <tr>\n",
       "      <th>14</th>\n",
       "      <td>15</td>\n",
       "      <td>惠比壽</td>\n",
       "      <td>火</td>\n",
       "    </tr>\n",
       "    <tr>\n",
       "      <th>15</th>\n",
       "      <td>16</td>\n",
       "      <td>風神雷神</td>\n",
       "      <td>水</td>\n",
       "    </tr>\n",
       "    <tr>\n",
       "      <th>16</th>\n",
       "      <td>17</td>\n",
       "      <td>惠比天少女組</td>\n",
       "      <td>木</td>\n",
       "    </tr>\n",
       "    <tr>\n",
       "      <th>17</th>\n",
       "      <td>18</td>\n",
       "      <td>蒙大拿</td>\n",
       "      <td>暗</td>\n",
       "    </tr>\n",
       "    <tr>\n",
       "      <th>18</th>\n",
       "      <td>19</td>\n",
       "      <td>安納塔西亞</td>\n",
       "      <td>水</td>\n",
       "    </tr>\n",
       "    <tr>\n",
       "      <th>19</th>\n",
       "      <td>20</td>\n",
       "      <td>包青天</td>\n",
       "      <td>火</td>\n",
       "    </tr>\n",
       "  </tbody>\n",
       "</table>\n",
       "</div>"
      ],
      "text/plain": [
       "    排名    怪物名稱 屬性\n",
       "0    1      妮奧  水\n",
       "1    2      千早  水\n",
       "2    3     阿碧絲  暗\n",
       "3    4   開膛手傑克  光\n",
       "4    5      盧娜  暗\n",
       "5    6     所羅門  光\n",
       "6    7      亞森  暗\n",
       "7    8      甘露  水\n",
       "8    9      亞瑟  光\n",
       "9   10     路西法  暗\n",
       "10  11    聖德太子  火\n",
       "11  12     琵莉卡  水\n",
       "12  13      瑪娜  火\n",
       "13  14    鬼丸國鋼  火\n",
       "14  15     惠比壽  火\n",
       "15  16    風神雷神  水\n",
       "16  17  惠比天少女組  木\n",
       "17  18     蒙大拿  暗\n",
       "18  19   安納塔西亞  水\n",
       "19  20     包青天  火"
      ]
     },
     "execution_count": 3,
     "metadata": {},
     "output_type": "execute_result"
    }
   ],
   "source": [
    "\"\"\"\n",
    "透過這兩個表單來得知新角色的強勢以及屬性強力角色\n",
    "\"\"\"\n",
    "import pandas as pd\n",
    "#怪物彈珠人氣排行榜\n",
    "ms1 = pd.read_csv(\"ms1.csv\",encoding = \"Big5\")\n",
    "ms1"
   ]
  },
  {
   "cell_type": "code",
   "execution_count": 4,
   "id": "aea0b5b6",
   "metadata": {},
   "outputs": [
    {
     "data": {
      "text/html": [
       "<div>\n",
       "<style scoped>\n",
       "    .dataframe tbody tr th:only-of-type {\n",
       "        vertical-align: middle;\n",
       "    }\n",
       "\n",
       "    .dataframe tbody tr th {\n",
       "        vertical-align: top;\n",
       "    }\n",
       "\n",
       "    .dataframe thead th {\n",
       "        text-align: right;\n",
       "    }\n",
       "</style>\n",
       "<table border=\"1\" class=\"dataframe\">\n",
       "  <thead>\n",
       "    <tr style=\"text-align: right;\">\n",
       "      <th></th>\n",
       "      <th>月份</th>\n",
       "      <th>怪物名稱</th>\n",
       "      <th>屬性</th>\n",
       "    </tr>\n",
       "  </thead>\n",
       "  <tbody>\n",
       "    <tr>\n",
       "      <th>0</th>\n",
       "      <td>1</td>\n",
       "      <td>妮奧</td>\n",
       "      <td>水</td>\n",
       "    </tr>\n",
       "    <tr>\n",
       "      <th>1</th>\n",
       "      <td>2</td>\n",
       "      <td>包青天</td>\n",
       "      <td>火</td>\n",
       "    </tr>\n",
       "    <tr>\n",
       "      <th>2</th>\n",
       "      <td>2</td>\n",
       "      <td>琵莉卡</td>\n",
       "      <td>水</td>\n",
       "    </tr>\n",
       "    <tr>\n",
       "      <th>3</th>\n",
       "      <td>3</td>\n",
       "      <td>波菈里絲</td>\n",
       "      <td>木</td>\n",
       "    </tr>\n",
       "    <tr>\n",
       "      <th>4</th>\n",
       "      <td>5</td>\n",
       "      <td>聖德太子</td>\n",
       "      <td>火</td>\n",
       "    </tr>\n",
       "    <tr>\n",
       "      <th>5</th>\n",
       "      <td>6</td>\n",
       "      <td>開膛手傑克</td>\n",
       "      <td>光</td>\n",
       "    </tr>\n",
       "    <tr>\n",
       "      <th>6</th>\n",
       "      <td>6</td>\n",
       "      <td>阿碧絲</td>\n",
       "      <td>暗</td>\n",
       "    </tr>\n",
       "    <tr>\n",
       "      <th>7</th>\n",
       "      <td>7</td>\n",
       "      <td>惠比天少女組</td>\n",
       "      <td>木</td>\n",
       "    </tr>\n",
       "    <tr>\n",
       "      <th>8</th>\n",
       "      <td>8</td>\n",
       "      <td>盧娜</td>\n",
       "      <td>暗</td>\n",
       "    </tr>\n",
       "    <tr>\n",
       "      <th>9</th>\n",
       "      <td>8</td>\n",
       "      <td>千早</td>\n",
       "      <td>水</td>\n",
       "    </tr>\n",
       "    <tr>\n",
       "      <th>10</th>\n",
       "      <td>9</td>\n",
       "      <td>亞爾絲蘭</td>\n",
       "      <td>火</td>\n",
       "    </tr>\n",
       "    <tr>\n",
       "      <th>11</th>\n",
       "      <td>10</td>\n",
       "      <td>薛丁格</td>\n",
       "      <td>光</td>\n",
       "    </tr>\n",
       "    <tr>\n",
       "      <th>12</th>\n",
       "      <td>11</td>\n",
       "      <td>巴比倫</td>\n",
       "      <td>暗</td>\n",
       "    </tr>\n",
       "    <tr>\n",
       "      <th>13</th>\n",
       "      <td>12</td>\n",
       "      <td>浮士德</td>\n",
       "      <td>火</td>\n",
       "    </tr>\n",
       "  </tbody>\n",
       "</table>\n",
       "</div>"
      ],
      "text/plain": [
       "    月份    怪物名稱 屬性\n",
       "0    1      妮奧  水\n",
       "1    2     包青天  火\n",
       "2    2     琵莉卡  水\n",
       "3    3    波菈里絲  木\n",
       "4    5    聖德太子  火\n",
       "5    6   開膛手傑克  光\n",
       "6    6     阿碧絲  暗\n",
       "7    7  惠比天少女組  木\n",
       "8    8      盧娜  暗\n",
       "9    8      千早  水\n",
       "10   9    亞爾絲蘭  火\n",
       "11  10     薛丁格  光\n",
       "12  11     巴比倫  暗\n",
       "13  12     浮士德  火"
      ]
     },
     "execution_count": 4,
     "metadata": {},
     "output_type": "execute_result"
    }
   ],
   "source": [
    "import pandas as pd\n",
    "#2022新角色\n",
    "ms2 = pd.read_csv(\"ms2.csv\",encoding = \"Big5\")\n",
    "ms2"
   ]
  },
  {
   "cell_type": "code",
   "execution_count": 5,
   "id": "70e77249",
   "metadata": {},
   "outputs": [
    {
     "data": {
      "text/plain": [
       "{'亞森',\n",
       " '亞瑟',\n",
       " '包青天',\n",
       " '千早',\n",
       " '妮奧',\n",
       " '安納塔西亞',\n",
       " '惠比壽',\n",
       " '惠比天少女組',\n",
       " '所羅門',\n",
       " '琵莉卡',\n",
       " '瑪娜',\n",
       " '甘露',\n",
       " '盧娜',\n",
       " '聖德太子',\n",
       " '蒙大拿',\n",
       " '路西法',\n",
       " '開膛手傑克',\n",
       " '阿碧絲',\n",
       " '風神雷神',\n",
       " '鬼丸國鋼'}"
      ]
     },
     "execution_count": 5,
     "metadata": {},
     "output_type": "execute_result"
    }
   ],
   "source": [
    "#子集合\n",
    "set_name1 = set(ms1[\"怪物名稱\"])\n",
    "set_name1"
   ]
  },
  {
   "cell_type": "code",
   "execution_count": 6,
   "id": "4e95cc76",
   "metadata": {},
   "outputs": [
    {
     "data": {
      "text/plain": [
       "{'亞爾絲蘭',\n",
       " '包青天',\n",
       " '千早',\n",
       " '妮奧',\n",
       " '巴比倫',\n",
       " '惠比天少女組',\n",
       " '波菈里絲',\n",
       " '浮士德',\n",
       " '琵莉卡',\n",
       " '盧娜',\n",
       " '聖德太子',\n",
       " '薛丁格',\n",
       " '開膛手傑克',\n",
       " '阿碧絲'}"
      ]
     },
     "execution_count": 6,
     "metadata": {},
     "output_type": "execute_result"
    }
   ],
   "source": [
    "#子集合\n",
    "set_name2 = set(ms2[\"怪物名稱\"])\n",
    "set_name2"
   ]
  },
  {
   "cell_type": "code",
   "execution_count": 7,
   "id": "d99e468e",
   "metadata": {},
   "outputs": [
    {
     "data": {
      "text/plain": [
       "{'包青天', '千早', '妮奧', '惠比天少女組', '琵莉卡', '盧娜', '聖德太子', '開膛手傑克', '阿碧絲'}"
      ]
     },
     "execution_count": 7,
     "metadata": {},
     "output_type": "execute_result"
    }
   ],
   "source": [
    "#交集\n",
    "#2022新角色的上榜數量\n",
    "(set_name1 & set_name2)"
   ]
  },
  {
   "cell_type": "code",
   "execution_count": 8,
   "id": "2530be38",
   "metadata": {},
   "outputs": [
    {
     "data": {
      "text/plain": [
       "{'亞森', '亞瑟', '安納塔西亞', '惠比壽', '所羅門', '瑪娜', '甘露', '蒙大拿', '路西法', '風神雷神', '鬼丸國鋼'}"
      ]
     },
     "execution_count": 8,
     "metadata": {},
     "output_type": "execute_result"
    }
   ],
   "source": [
    "#差集\n",
    "#人氣排行中的舊角色(非2022年出)\n",
    "(set_name1 - (set_name1 & set_name2))"
   ]
  },
  {
   "cell_type": "code",
   "execution_count": 9,
   "id": "66cf4990",
   "metadata": {},
   "outputs": [
    {
     "data": {
      "text/plain": [
       "{'亞爾絲蘭', '巴比倫', '波菈里絲', '浮士德', '薛丁格'}"
      ]
     },
     "execution_count": 9,
     "metadata": {},
     "output_type": "execute_result"
    }
   ],
   "source": [
    "#差集\n",
    "#2022年未上榜的新角色\n",
    "(set_name2 - (set_name1 & set_name2))"
   ]
  },
  {
   "cell_type": "code",
   "execution_count": 10,
   "id": "9cdd5b39",
   "metadata": {},
   "outputs": [
    {
     "data": {
      "text/plain": [
       "{'光', '暗', '木', '水', '火'}"
      ]
     },
     "execution_count": 10,
     "metadata": {},
     "output_type": "execute_result"
    }
   ],
   "source": [
    "#子集合\n",
    "set_type1 = set(ms1[\"屬性\"])\n",
    "set_type1"
   ]
  },
  {
   "cell_type": "code",
   "execution_count": 12,
   "id": "23876675",
   "metadata": {},
   "outputs": [
    {
     "data": {
      "text/plain": [
       "['水',\n",
       " '水',\n",
       " '暗',\n",
       " '光',\n",
       " '暗',\n",
       " '光',\n",
       " '暗',\n",
       " '水',\n",
       " '光',\n",
       " '暗',\n",
       " '火',\n",
       " '水',\n",
       " '火',\n",
       " '火',\n",
       " '火',\n",
       " '水',\n",
       " '木',\n",
       " '暗',\n",
       " '水',\n",
       " '火']"
      ]
     },
     "execution_count": 12,
     "metadata": {},
     "output_type": "execute_result"
    }
   ],
   "source": [
    "datatype1 = list(ms1['屬性'])\n",
    "datatype1"
   ]
  },
  {
   "cell_type": "code",
   "execution_count": 13,
   "id": "04977699",
   "metadata": {},
   "outputs": [
    {
     "data": {
      "text/plain": [
       "['水', '火', '水', '木', '火', '光', '暗', '木', '暗', '水', '火', '光', '暗', '火']"
      ]
     },
     "execution_count": 13,
     "metadata": {},
     "output_type": "execute_result"
    }
   ],
   "source": [
    "datatype2 = list(ms2['屬性'])\n",
    "datatype2"
   ]
  },
  {
   "cell_type": "code",
   "execution_count": 14,
   "id": "e5dac28f",
   "metadata": {},
   "outputs": [
    {
     "name": "stdout",
     "output_type": "stream",
     "text": [
      "0\n",
      "0\n",
      "0\n",
      "0\n"
     ]
    }
   ],
   "source": [
    "print(l.count('a'))\n",
    "# 4\n",
    "\n",
    "print(l.count('b'))\n",
    "# 1\n",
    "\n",
    "print(l.count('c'))\n",
    "# 2\n",
    "\n",
    "print(l.count('d'))\n",
    "# 0"
   ]
  },
  {
   "cell_type": "code",
   "execution_count": 15,
   "id": "2fbbb490",
   "metadata": {},
   "outputs": [
    {
     "name": "stdout",
     "output_type": "stream",
     "text": [
      "6\n",
      "5\n",
      "1\n",
      "3\n",
      "5\n"
     ]
    }
   ],
   "source": [
    "#計算各種屬性出現在人氣排行上出現的次數\n",
    "datatype1 = list(ms1['屬性'])\n",
    "datatype1\n",
    "l = datatype1\n",
    "print(l.count('水'))\n",
    "# 水\n",
    "\n",
    "print(l.count('火'))\n",
    "# 火\n",
    "\n",
    "print(l.count('木'))\n",
    "# 木\n",
    "\n",
    "print(l.count('光'))\n",
    "# 光\n",
    "print(l.count('暗'))\n",
    "# 暗"
   ]
  },
  {
   "cell_type": "code",
   "execution_count": 16,
   "id": "731e0431",
   "metadata": {},
   "outputs": [
    {
     "name": "stdout",
     "output_type": "stream",
     "text": [
      "3\n",
      "4\n",
      "2\n",
      "2\n",
      "3\n"
     ]
    }
   ],
   "source": [
    "#計算各種屬性出現在人氣排行上出現的次數\n",
    "datatype2 = list(ms2['屬性'])\n",
    "datatype2\n",
    "l = datatype2\n",
    "print(l.count('水'))\n",
    "# 水\n",
    "\n",
    "print(l.count('火'))\n",
    "# 火\n",
    "\n",
    "print(l.count('木'))\n",
    "# 木\n",
    "\n",
    "print(l.count('光'))\n",
    "# 光\n",
    "print(l.count('暗'))\n",
    "# 暗"
   ]
  },
  {
   "cell_type": "code",
   "execution_count": 17,
   "id": "4da79aa1",
   "metadata": {},
   "outputs": [
    {
     "ename": "TypeError",
     "evalue": "unsupported operand type(s) for &: 'list' and 'list'",
     "output_type": "error",
     "traceback": [
      "\u001b[1;31m---------------------------------------------------------------------------\u001b[0m",
      "\u001b[1;31mTypeError\u001b[0m                                 Traceback (most recent call last)",
      "\u001b[1;32m~\\AppData\\Local\\Temp\\ipykernel_25068\\2298180602.py\u001b[0m in \u001b[0;36m<module>\u001b[1;34m\u001b[0m\n\u001b[0;32m      1\u001b[0m \u001b[1;31m#交集\u001b[0m\u001b[1;33m\u001b[0m\u001b[1;33m\u001b[0m\u001b[0m\n\u001b[1;32m----> 2\u001b[1;33m \u001b[1;33m(\u001b[0m\u001b[0mdatatype1\u001b[0m \u001b[1;33m&\u001b[0m \u001b[0mdatatype2\u001b[0m\u001b[1;33m)\u001b[0m\u001b[1;33m\u001b[0m\u001b[1;33m\u001b[0m\u001b[0m\n\u001b[0m",
      "\u001b[1;31mTypeError\u001b[0m: unsupported operand type(s) for &: 'list' and 'list'"
     ]
    }
   ],
   "source": [
    "#交集\n",
    "(datatype1 & datatype2)"
   ]
  },
  {
   "cell_type": "code",
   "execution_count": 18,
   "id": "ad9e5105",
   "metadata": {},
   "outputs": [
    {
     "ename": "KeyError",
     "evalue": "'怪物名稱屬性'",
     "output_type": "error",
     "traceback": [
      "\u001b[1;31m---------------------------------------------------------------------------\u001b[0m",
      "\u001b[1;31mKeyError\u001b[0m                                  Traceback (most recent call last)",
      "\u001b[1;32mC:\\ProgramData\\Anaconda3\\lib\\site-packages\\pandas\\core\\indexes\\base.py\u001b[0m in \u001b[0;36mget_loc\u001b[1;34m(self, key, method, tolerance)\u001b[0m\n\u001b[0;32m   3628\u001b[0m             \u001b[1;32mtry\u001b[0m\u001b[1;33m:\u001b[0m\u001b[1;33m\u001b[0m\u001b[1;33m\u001b[0m\u001b[0m\n\u001b[1;32m-> 3629\u001b[1;33m                 \u001b[1;32mreturn\u001b[0m \u001b[0mself\u001b[0m\u001b[1;33m.\u001b[0m\u001b[0m_engine\u001b[0m\u001b[1;33m.\u001b[0m\u001b[0mget_loc\u001b[0m\u001b[1;33m(\u001b[0m\u001b[0mcasted_key\u001b[0m\u001b[1;33m)\u001b[0m\u001b[1;33m\u001b[0m\u001b[1;33m\u001b[0m\u001b[0m\n\u001b[0m\u001b[0;32m   3630\u001b[0m             \u001b[1;32mexcept\u001b[0m \u001b[0mKeyError\u001b[0m \u001b[1;32mas\u001b[0m \u001b[0merr\u001b[0m\u001b[1;33m:\u001b[0m\u001b[1;33m\u001b[0m\u001b[1;33m\u001b[0m\u001b[0m\n",
      "\u001b[1;32mC:\\ProgramData\\Anaconda3\\lib\\site-packages\\pandas\\_libs\\index.pyx\u001b[0m in \u001b[0;36mpandas._libs.index.IndexEngine.get_loc\u001b[1;34m()\u001b[0m\n",
      "\u001b[1;32mC:\\ProgramData\\Anaconda3\\lib\\site-packages\\pandas\\_libs\\index.pyx\u001b[0m in \u001b[0;36mpandas._libs.index.IndexEngine.get_loc\u001b[1;34m()\u001b[0m\n",
      "\u001b[1;32mpandas\\_libs\\hashtable_class_helper.pxi\u001b[0m in \u001b[0;36mpandas._libs.hashtable.PyObjectHashTable.get_item\u001b[1;34m()\u001b[0m\n",
      "\u001b[1;32mpandas\\_libs\\hashtable_class_helper.pxi\u001b[0m in \u001b[0;36mpandas._libs.hashtable.PyObjectHashTable.get_item\u001b[1;34m()\u001b[0m\n",
      "\u001b[1;31mKeyError\u001b[0m: '怪物名稱屬性'",
      "\nThe above exception was the direct cause of the following exception:\n",
      "\u001b[1;31mKeyError\u001b[0m                                  Traceback (most recent call last)",
      "\u001b[1;32m~\\AppData\\Local\\Temp\\ipykernel_25068\\207934770.py\u001b[0m in \u001b[0;36m<module>\u001b[1;34m\u001b[0m\n\u001b[0;32m      1\u001b[0m \u001b[1;31m#子集合\u001b[0m\u001b[1;33m\u001b[0m\u001b[1;33m\u001b[0m\u001b[0m\n\u001b[1;32m----> 2\u001b[1;33m \u001b[0mset_com1\u001b[0m \u001b[1;33m=\u001b[0m \u001b[0mset\u001b[0m\u001b[1;33m(\u001b[0m\u001b[0mms1\u001b[0m\u001b[1;33m[\u001b[0m\u001b[1;34m\"怪物名稱\"\u001b[0m\u001b[1;34m'屬性'\u001b[0m\u001b[1;33m]\u001b[0m\u001b[1;33m)\u001b[0m\u001b[1;33m\u001b[0m\u001b[1;33m\u001b[0m\u001b[0m\n\u001b[0m\u001b[0;32m      3\u001b[0m \u001b[0mset_com1\u001b[0m\u001b[1;33m\u001b[0m\u001b[1;33m\u001b[0m\u001b[0m\n",
      "\u001b[1;32mC:\\ProgramData\\Anaconda3\\lib\\site-packages\\pandas\\core\\frame.py\u001b[0m in \u001b[0;36m__getitem__\u001b[1;34m(self, key)\u001b[0m\n\u001b[0;32m   3503\u001b[0m             \u001b[1;32mif\u001b[0m \u001b[0mself\u001b[0m\u001b[1;33m.\u001b[0m\u001b[0mcolumns\u001b[0m\u001b[1;33m.\u001b[0m\u001b[0mnlevels\u001b[0m \u001b[1;33m>\u001b[0m \u001b[1;36m1\u001b[0m\u001b[1;33m:\u001b[0m\u001b[1;33m\u001b[0m\u001b[1;33m\u001b[0m\u001b[0m\n\u001b[0;32m   3504\u001b[0m                 \u001b[1;32mreturn\u001b[0m \u001b[0mself\u001b[0m\u001b[1;33m.\u001b[0m\u001b[0m_getitem_multilevel\u001b[0m\u001b[1;33m(\u001b[0m\u001b[0mkey\u001b[0m\u001b[1;33m)\u001b[0m\u001b[1;33m\u001b[0m\u001b[1;33m\u001b[0m\u001b[0m\n\u001b[1;32m-> 3505\u001b[1;33m             \u001b[0mindexer\u001b[0m \u001b[1;33m=\u001b[0m \u001b[0mself\u001b[0m\u001b[1;33m.\u001b[0m\u001b[0mcolumns\u001b[0m\u001b[1;33m.\u001b[0m\u001b[0mget_loc\u001b[0m\u001b[1;33m(\u001b[0m\u001b[0mkey\u001b[0m\u001b[1;33m)\u001b[0m\u001b[1;33m\u001b[0m\u001b[1;33m\u001b[0m\u001b[0m\n\u001b[0m\u001b[0;32m   3506\u001b[0m             \u001b[1;32mif\u001b[0m \u001b[0mis_integer\u001b[0m\u001b[1;33m(\u001b[0m\u001b[0mindexer\u001b[0m\u001b[1;33m)\u001b[0m\u001b[1;33m:\u001b[0m\u001b[1;33m\u001b[0m\u001b[1;33m\u001b[0m\u001b[0m\n\u001b[0;32m   3507\u001b[0m                 \u001b[0mindexer\u001b[0m \u001b[1;33m=\u001b[0m \u001b[1;33m[\u001b[0m\u001b[0mindexer\u001b[0m\u001b[1;33m]\u001b[0m\u001b[1;33m\u001b[0m\u001b[1;33m\u001b[0m\u001b[0m\n",
      "\u001b[1;32mC:\\ProgramData\\Anaconda3\\lib\\site-packages\\pandas\\core\\indexes\\base.py\u001b[0m in \u001b[0;36mget_loc\u001b[1;34m(self, key, method, tolerance)\u001b[0m\n\u001b[0;32m   3629\u001b[0m                 \u001b[1;32mreturn\u001b[0m \u001b[0mself\u001b[0m\u001b[1;33m.\u001b[0m\u001b[0m_engine\u001b[0m\u001b[1;33m.\u001b[0m\u001b[0mget_loc\u001b[0m\u001b[1;33m(\u001b[0m\u001b[0mcasted_key\u001b[0m\u001b[1;33m)\u001b[0m\u001b[1;33m\u001b[0m\u001b[1;33m\u001b[0m\u001b[0m\n\u001b[0;32m   3630\u001b[0m             \u001b[1;32mexcept\u001b[0m \u001b[0mKeyError\u001b[0m \u001b[1;32mas\u001b[0m \u001b[0merr\u001b[0m\u001b[1;33m:\u001b[0m\u001b[1;33m\u001b[0m\u001b[1;33m\u001b[0m\u001b[0m\n\u001b[1;32m-> 3631\u001b[1;33m                 \u001b[1;32mraise\u001b[0m \u001b[0mKeyError\u001b[0m\u001b[1;33m(\u001b[0m\u001b[0mkey\u001b[0m\u001b[1;33m)\u001b[0m \u001b[1;32mfrom\u001b[0m \u001b[0merr\u001b[0m\u001b[1;33m\u001b[0m\u001b[1;33m\u001b[0m\u001b[0m\n\u001b[0m\u001b[0;32m   3632\u001b[0m             \u001b[1;32mexcept\u001b[0m \u001b[0mTypeError\u001b[0m\u001b[1;33m:\u001b[0m\u001b[1;33m\u001b[0m\u001b[1;33m\u001b[0m\u001b[0m\n\u001b[0;32m   3633\u001b[0m                 \u001b[1;31m# If we have a listlike key, _check_indexing_error will raise\u001b[0m\u001b[1;33m\u001b[0m\u001b[1;33m\u001b[0m\u001b[0m\n",
      "\u001b[1;31mKeyError\u001b[0m: '怪物名稱屬性'"
     ]
    }
   ],
   "source": [
    "#子集合\n",
    "set_com1 = set(ms1[\"怪物名稱\"'屬性'])\n",
    "set_com1"
   ]
  },
  {
   "cell_type": "code",
   "execution_count": 19,
   "id": "2f7ea980",
   "metadata": {},
   "outputs": [],
   "source": [
    "#想做但還不知道怎麼做"
   ]
  },
  {
   "cell_type": "code",
   "execution_count": 20,
   "id": "3152bf47",
   "metadata": {},
   "outputs": [],
   "source": [
    "#只篩選出特定屬性的怪物\n",
    "#特定屬性的怪物與人氣排行榜+2022新角的應用"
   ]
  },
  {
   "cell_type": "code",
   "execution_count": null,
   "id": "3b42f368",
   "metadata": {},
   "outputs": [],
   "source": []
  }
 ],
 "metadata": {
  "kernelspec": {
   "display_name": "Python 3 (ipykernel)",
   "language": "python",
   "name": "python3"
  },
  "language_info": {
   "codemirror_mode": {
    "name": "ipython",
    "version": 3
   },
   "file_extension": ".py",
   "mimetype": "text/x-python",
   "name": "python",
   "nbconvert_exporter": "python",
   "pygments_lexer": "ipython3",
   "version": "3.9.13"
  }
 },
 "nbformat": 4,
 "nbformat_minor": 5
}
